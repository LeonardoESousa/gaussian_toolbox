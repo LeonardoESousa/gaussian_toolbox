{
 "cells": [
  {
   "cell_type": "code",
   "execution_count": 2,
   "metadata": {},
   "outputs": [
    {
     "name": "stdout",
     "output_type": "stream",
     "text": [
      "52.6 ms ± 7.23 ms per loop (mean ± std. dev. of 7 runs, 10 loops each)\n"
     ]
    }
   ],
   "source": [
    "def energy_and_osc1(file):\n",
    "    exc_energies = []\n",
    "    osc_str = []\n",
    "    with open(file,'r') as f:\n",
    "        i=0\n",
    "        for line in f:\n",
    "            if 'Excited State' in line:\n",
    "                if 'Excited State   1:' in line:\n",
    "                    i+=1\n",
    "                if i>1:\n",
    "                    exc_energies.clear()\n",
    "                    osc_str.clear()\n",
    "                    i=0\n",
    "                line=line.replace('=',' ').split()\n",
    "                exc_energies.append(float(line[4]))\n",
    "                osc_str.append(float(line[9]))\n",
    "\n",
    "    return exc_energies,osc_str \n",
    "\n",
    "def energy_and_osc2(file):\n",
    "    exc_energies = []\n",
    "    osc_str = []\n",
    "    with open(file,'r') as f:\n",
    "        i=0\n",
    "        for line in f:\n",
    "            if 'Excited State   1:' in line:\n",
    "                i+=1\n",
    "            if i>1:\n",
    "                exc_energies.clear()\n",
    "                osc_str.clear()\n",
    "                i=0\n",
    "            if 'Excited State' in line:\n",
    "                line=line.replace('=',' ').split()\n",
    "                exc_energies.append(float(line[4]))\n",
    "                osc_str.append(float(line[9]))\n",
    "\n",
    "    return exc_energies,osc_str \n",
    "\n",
    "%timeit energy_and_osc2('freq.log')"
   ]
  }
 ],
 "metadata": {
  "interpreter": {
   "hash": "8d1b0e05aaf8072557c9e1caf7c5d9e816c75ebd330c6b717cdfc1f2094defc9"
  },
  "kernelspec": {
   "display_name": "Python 3.8.5 64-bit ('base': conda)",
   "language": "python",
   "name": "python3"
  },
  "language_info": {
   "codemirror_mode": {
    "name": "ipython",
    "version": 3
   },
   "file_extension": ".py",
   "mimetype": "text/x-python",
   "name": "python",
   "nbconvert_exporter": "python",
   "pygments_lexer": "ipython3",
   "version": "3.8.5"
  },
  "orig_nbformat": 4
 },
 "nbformat": 4,
 "nbformat_minor": 2
}
