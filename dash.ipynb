{
 "cells": [
  {
   "cell_type": "markdown",
   "metadata": {},
   "source": [
    "# Exemplo Widgets"
   ]
  },
  {
   "cell_type": "code",
   "execution_count": 1,
   "metadata": {},
   "outputs": [
    {
     "data": {
      "application/vnd.jupyter.widget-view+json": {
       "model_id": "a5ca07e8fca74183bc9ef201bdc52be7",
       "version_major": 2,
       "version_minor": 0
      },
      "text/plain": [
       "interactive(children=(IntSlider(value=10, description='y', max=30, min=-10), Output()), _dom_classes=('widget-…"
      ]
     },
     "metadata": {},
     "output_type": "display_data"
    }
   ],
   "source": [
    "import matplotlib.pyplot as plt\n",
    "import numpy as np\n",
    "import ipywidgets as widgets\n",
    "from ipywidgets import interact, interactive, fixed, interact_manual\n",
    "\n",
    "%matplotlib widget\n",
    "\n",
    "#@interact(y=10)\n",
    "#def dark(y):\n",
    "#    m = np.arange(100)\n",
    "#    y = np.random.uniform(-y,y,100)\n",
    "#    line.set_data(m,y)\n",
    "#\n",
    "#fig, ax = plt.subplots()\n",
    "#ax.set_ylim([-10,10])\n",
    "#ax.set_xlim([0,100])\n",
    "#line, = ax.plot([],[])\n",
    "#\n",
    "#\n",
    "#interact(dark,y=10)\n",
    "#\n",
    "\n"
   ]
  },
  {
   "cell_type": "code",
   "execution_count": null,
   "metadata": {},
   "outputs": [],
   "source": [
    "#x = np.linspace(0, 2 * np.pi)\n",
    "#fig = plt.figure()\n",
    "#ax = fig.add_subplot(1, 1, 1)\n",
    "#line, = ax.plot(x, np.sin(x))\n",
    "#\n",
    "#def update(w = 1.0):\n",
    "#    line.set_ydata(np.sin(w * x))\n",
    "#    fig.canvas.draw_idle()\n",
    "#\n",
    "#interact(update);"
   ]
  }
 ],
 "metadata": {
  "language_info": {
   "name": "python"
  },
  "orig_nbformat": 4
 },
 "nbformat": 4,
 "nbformat_minor": 2
}
