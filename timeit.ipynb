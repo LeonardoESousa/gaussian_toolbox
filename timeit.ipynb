{
 "cells": [
  {
   "cell_type": "markdown",
   "id": "b2f17ccb",
   "metadata": {},
   "source": [
    "# Title"
   ]
  },
  {
   "cell_type": "code",
   "execution_count": 37,
   "id": "7d16499f",
   "metadata": {},
   "outputs": [
    {
     "name": "stdout",
     "output_type": "stream",
     "text": [
      "707 µs ± 28.6 µs per loop (mean ± std. dev. of 7 runs, 1000 loops each)\n",
      "13.4 ms ± 857 µs per loop (mean ± std. dev. of 7 runs, 100 loops each)\n"
     ]
    }
   ],
   "source": [
    "import numpy as np\n",
    "import random\n",
    "\n",
    "jump_rate = [np.random.normal(0,1,100000) for _ in range(1)]\n",
    "\n",
    "%timeit np.array([np.where(random.uniform(0,1) < np.cumsum(x/np.sum(x)))[0][0] for x in jump_rate]).astype(int)\n",
    "\n",
    "%timeit np.array([random.choices(np.arange(len(jump_rate[0])),weights=x)[0] for x in jump_rate]).astype(int)\n",
    "        "
   ]
  },
  {
   "cell_type": "code",
   "execution_count": 32,
   "id": "ef166897",
   "metadata": {},
   "outputs": [
    {
     "name": "stdout",
     "output_type": "stream",
     "text": [
      "704 µs ± 10.8 µs per loop (mean ± std. dev. of 7 runs, 1000 loops each)\n",
      "15.4 ms ± 1.5 ms per loop (mean ± std. dev. of 7 runs, 100 loops each)\n"
     ]
    }
   ],
   "source": [
    "x = jump_rate[0]\n",
    "\n",
    "%timeit np.where(random.uniform(0,1) <= np.cumsum(x/np.sum(x)))[0][0]\n",
    "\n",
    "%timeit random.choices(np.arange(len(x)),weights=x)[0] "
   ]
  },
  {
   "cell_type": "code",
   "execution_count": 36,
   "id": "3433aeb0",
   "metadata": {},
   "outputs": [
    {
     "name": "stdout",
     "output_type": "stream",
     "text": [
      "288 ns ± 27.1 ns per loop (mean ± std. dev. of 7 runs, 1000000 loops each)\n",
      "2.94 µs ± 70.7 ns per loop (mean ± std. dev. of 7 runs, 100000 loops each)\n"
     ]
    }
   ],
   "source": [
    "%timeit random.uniform(0,1)\n",
    "\n",
    "%timeit np.random.uniform(0,1)\n"
   ]
  },
  {
   "cell_type": "code",
   "execution_count": 4,
   "id": "a3ef094d",
   "metadata": {},
   "outputs": [
    {
     "name": "stdout",
     "output_type": "stream",
     "text": [
      "86.4 µs ± 1.71 µs per loop (mean ± std. dev. of 7 runs, 10000 loops each)\n",
      "86.4 µs ± 1.03 µs per loop (mean ± std. dev. of 7 runs, 10000 loops each)\n"
     ]
    }
   ],
   "source": [
    "import random\n",
    "import numpy as np\n",
    "%timeit x = np.random.normal(0,1,1000) - 10; y = np.random.normal(0,1,1000) - 10; z = np.random.normal(0,1,1000) - 10\n",
    "\n",
    "%timeit x, y, z = np.random.normal(0,1,1000) - 10,np.random.normal(0,1,1000) - 10,np.random.normal(0,1,1000) - 10\n"
   ]
  }
 ],
 "metadata": {
  "kernelspec": {
   "display_name": "Python 3 (ipykernel)",
   "language": "python",
   "name": "python3"
  },
  "language_info": {
   "codemirror_mode": {
    "name": "ipython",
    "version": 3
   },
   "file_extension": ".py",
   "mimetype": "text/x-python",
   "name": "python",
   "nbconvert_exporter": "python",
   "pygments_lexer": "ipython3",
   "version": "3.8.6"
  }
 },
 "nbformat": 4,
 "nbformat_minor": 5
}
