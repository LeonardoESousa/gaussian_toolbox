{
 "cells": [
  {
   "cell_type": "markdown",
   "metadata": {},
   "source": [
    "# Cheat Sheet Python"
   ]
  },
  {
   "cell_type": "markdown",
   "metadata": {},
   "source": [
    "## Numbers"
   ]
  },
  {
   "cell_type": "code",
   "execution_count": 10,
   "metadata": {},
   "outputs": [
    {
     "name": "stdout",
     "output_type": "stream",
     "text": [
      "somar: 20\n",
      "multiplicar: 100\n",
      "dividir: 3.3333333333333335\n",
      "resto de divisão: 1\n",
      "potência: 1000\n"
     ]
    }
   ],
   "source": [
    "num = 10\n",
    "print('somar:',num + num) \n",
    "print('multiplicar:',num*num)\n",
    "print('dividir:',num/3)\n",
    "print('resto de divisão:', num%3) \n",
    "print('potência:',num**3)"
   ]
  },
  {
   "cell_type": "markdown",
   "metadata": {},
   "source": [
    "## Comparing"
   ]
  },
  {
   "cell_type": "code",
   "execution_count": 41,
   "metadata": {},
   "outputs": [
    {
     "name": "stdout",
     "output_type": "stream",
     "text": [
      "Igualdade: False\n",
      "Maior: False\n",
      "Menor: True\n",
      "Maior ou igual: False\n",
      "Menor ou igual: True\n",
      "Usando AND: False\n",
      "Usando OR: True\n"
     ]
    }
   ],
   "source": [
    "a = 10\n",
    "b = 20\n",
    "\n",
    "print('Igualdade:',a==b)\n",
    "print('Maior:',a>b)\n",
    "print('Menor:',a<b)\n",
    "print('Maior ou igual:',a>=b)\n",
    "print('Menor ou igual:',a<=b)\n",
    "print('Usando AND:', a < b and a > 15)\n",
    "print('Usando OR:', a < b or a > 15)"
   ]
  },
  {
   "cell_type": "markdown",
   "metadata": {},
   "source": [
    "## Strings"
   ]
  },
  {
   "cell_type": "code",
   "execution_count": 14,
   "metadata": {},
   "outputs": [
    {
     "name": "stdout",
     "output_type": "stream",
     "text": [
      "Fernando vai ter de aprender python.  No escape!\n",
      "Todas maiúsculas: FERNANDO VAI TER DE APRENDER PYTHON.  NO ESCAPE!\n",
      "Todas minúsculas: fernando vai ter de aprender python.  no escape!\n",
      "Separa termos em um lista usando espaco: ['Fernando', 'vai', 'ter', 'de', 'aprender', 'python.', 'No', 'escape!']\n",
      "Separa termos em um lista usando ponto: ['Fernando vai ter de aprender python', '  No escape!']\n"
     ]
    }
   ],
   "source": [
    "a = 'Fernando vai ter de aprender python. '\n",
    "b = ' No escape!'\n",
    "#Somar strings significa concatenar\n",
    "a = a + b\n",
    "print(a)\n",
    "\n",
    "print('Todas maiúsculas:',a.upper())\n",
    "print('Todas minúsculas:',a.lower())\n",
    "print('Separa termos em um lista usando espaco:',a.split())\n",
    "print('Separa termos em um lista usando ponto:',a.split('.'))"
   ]
  },
  {
   "cell_type": "markdown",
   "metadata": {},
   "source": [
    "## Lists"
   ]
  },
  {
   "cell_type": "code",
   "execution_count": 38,
   "metadata": {},
   "outputs": [
    {
     "name": "stdout",
     "output_type": "stream",
     "text": [
      "Primeiro elemento: 1\n",
      "Último elemento: 15\n",
      "Elementos a partir do índice 2 [10, 15]\n",
      "Enfia um elemento no fim da lista [1, 5, 10, 15, 20]\n",
      "Descobre qual o índice do elemento na lista: 0\n",
      "Tamanho da lista: 5\n",
      "Checa se algo está na lista: True\n",
      "Mudando um elemento da lista: [1, 5, 100, 15, 20]\n",
      "Somar duas listas é concatenar: [1, 5, 100, 15, 20, 0, 1, 2, 3]\n"
     ]
    }
   ],
   "source": [
    "lista = [1,5,10,15]\n",
    "\n",
    "print('Primeiro elemento:',lista[0])  \n",
    "print('Último elemento:',lista[-1])\n",
    "print('Elementos a partir do índice 2',lista[2:])\n",
    "lista.append(20)\n",
    "print(\"Enfia um elemento no fim da lista\",lista)\n",
    "print('Descobre qual o índice do elemento na lista:',lista.index(1))\n",
    "print('Tamanho da lista:',len(lista))\n",
    "print('Checa se algo está na lista:', 5 in lista)\n",
    "lista[2] = 100\n",
    "print('Mudando um elemento da lista:', lista)\n",
    "print('Somar duas listas é concatenar:',lista + [0,1,2,3])\n"
   ]
  },
  {
   "cell_type": "markdown",
   "metadata": {},
   "source": [
    "## Dictionaries"
   ]
  },
  {
   "cell_type": "code",
   "execution_count": 15,
   "metadata": {},
   "outputs": [
    {
     "name": "stdout",
     "output_type": "stream",
     "text": [
      "Lista as chaves: dict_keys(['Pedao', 'Fernando', 'Tiago'])\n",
      "Lista os valores: dict_values([45, 23, 27])\n",
      "Pega o valor correspondente a uma chave: 45\n"
     ]
    }
   ],
   "source": [
    "dicionario = {'Pedao':45, 'Fernando':23, 'Tiago':27}\n",
    "\n",
    "print('Lista as chaves:',dicionario.keys())\n",
    "print('Lista os valores:',dicionario.values())\n",
    "\n",
    "print('Pega o valor correspondente a uma chave:',dicionario['Pedao'])"
   ]
  },
  {
   "cell_type": "markdown",
   "metadata": {},
   "source": [
    "## Transformando uma coisa na outra"
   ]
  },
  {
   "cell_type": "code",
   "execution_count": 20,
   "metadata": {},
   "outputs": [
    {
     "name": "stdout",
     "output_type": "stream",
     "text": [
      "3.5 <class 'float'>\n",
      "4.5 <class 'str'>\n",
      "['Pedao', 'Fernando', 'Tiago'] <class 'list'>\n"
     ]
    }
   ],
   "source": [
    "a = float('3.5')\n",
    "print(a, type(a))\n",
    "\n",
    "a = str(4.5)\n",
    "print(a,type(a))\n",
    "\n",
    "keys = list(dicionario.keys())\n",
    "print(keys, type(keys))"
   ]
  },
  {
   "cell_type": "markdown",
   "metadata": {},
   "source": [
    "## For Loops "
   ]
  },
  {
   "cell_type": "code",
   "execution_count": 24,
   "metadata": {},
   "outputs": [
    {
     "name": "stdout",
     "output_type": "stream",
     "text": [
      "['Joao Maria', 'Jose', 'Madalena', 'Mateus', 'Ruth', 'Marcos']\n",
      "Usando for:\n",
      "\n",
      "Joao Maria tem M\n",
      "Jose tem J\n",
      "Madalena tem M\n",
      "Mateus tem M\n",
      "Marcos tem M\n"
     ]
    }
   ],
   "source": [
    "texto = 'Joao Maria,Jose,Madalena,Mateus,Ruth,Marcos'\n",
    "# transforma em lista\n",
    "lista = texto.split(',')\n",
    "print(lista)\n",
    "\n",
    "print('Usando for:\\n')\n",
    "for nome in lista:\n",
    "    if 'M' in nome:\n",
    "        print(nome, 'tem M')\n",
    "    elif 'J' in nome:\n",
    "        print(nome, 'tem J')\n",
    "    else:\n",
    "        pass \n",
    "           "
   ]
  },
  {
   "cell_type": "markdown",
   "metadata": {},
   "source": [
    "## List comprehension"
   ]
  },
  {
   "cell_type": "code",
   "execution_count": 25,
   "metadata": {},
   "outputs": [
    {
     "name": "stdout",
     "output_type": "stream",
     "text": [
      "[0, 1, 4, 9, 16, 25, 36, 49, 64, 81]\n",
      "[0, 4, 16, 36, 64]\n"
     ]
    }
   ],
   "source": [
    "# Jeito mais rápido de fazer uma lista\n",
    "\n",
    "lista2 = [i**2 for i in range(10)]\n",
    "print(lista2)\n",
    "\n",
    "#Incluindo um if\n",
    "lista2 = [i**2 for i in range(10) if i%2 == 0]\n",
    "print(lista2)\n"
   ]
  },
  {
   "cell_type": "markdown",
   "metadata": {},
   "source": [
    "## While Loops"
   ]
  },
  {
   "cell_type": "code",
   "execution_count": 26,
   "metadata": {},
   "outputs": [
    {
     "name": "stdout",
     "output_type": "stream",
     "text": [
      "Joao Maria tem M\n",
      "Jose tem J\n",
      "Madalena tem M\n",
      "Mateus tem M\n",
      "Marcos tem M\n"
     ]
    }
   ],
   "source": [
    "i = 0\n",
    "while i < len(lista):\n",
    "    if 'M' in lista[i]:\n",
    "        print(lista[i], 'tem M')\n",
    "    elif 'J' in lista[i]:\n",
    "        print(lista[i], 'tem J')\n",
    "    else:\n",
    "        pass \n",
    "    i += 1 # i = i + 1\n"
   ]
  },
  {
   "cell_type": "markdown",
   "metadata": {},
   "source": [
    "## Try and Except"
   ]
  },
  {
   "cell_type": "code",
   "execution_count": 27,
   "metadata": {},
   "outputs": [
    {
     "name": "stdout",
     "output_type": "stream",
     "text": [
      "Esse aqui não rolou: one\n",
      "Esse aqui não rolou: four\n",
      "[2.0, 3.0]\n"
     ]
    }
   ],
   "source": [
    "lista = ['one', '2', '3', 'four']\n",
    "nova_lista = []\n",
    "\n",
    "for elem in lista:\n",
    "    try:\n",
    "        #Quando ele tenta fazer algo que normalmente daria pau no programa, ele faz o que tá no except ao invés.\n",
    "        numero = float(elem)\n",
    "        nova_lista.append(numero)\n",
    "    except:\n",
    "        print('Esse aqui não rolou:', elem )\n",
    "\n",
    "print(nova_lista)        "
   ]
  },
  {
   "cell_type": "markdown",
   "metadata": {},
   "source": [
    "## Reading and Writing Files"
   ]
  },
  {
   "cell_type": "code",
   "execution_count": 28,
   "metadata": {},
   "outputs": [
    {
     "name": "stdout",
     "output_type": "stream",
     "text": [
      "Testando escrever em um arquivo.\n",
      "\n",
      "Escrevendo outra linha no arquivo\n",
      "\n"
     ]
    }
   ],
   "source": [
    "with open('teste.txt', 'w') as f: # 'w' cria o arquivo do zero e escreve nele\n",
    "    f.write('Testando escrever em um arquivo.\\n')\n",
    "\n",
    "with open('teste.txt', 'a') as f: # 'a' faz append no arquivo\n",
    "    f.write('Escrevendo outra linha no arquivo\\n')\n",
    "\n",
    "with open('teste.txt', 'r') as f: # 'r' lê o arquivo\n",
    "    for line in f:\n",
    "        print(line)\n"
   ]
  },
  {
   "cell_type": "markdown",
   "metadata": {},
   "source": [
    "## Functions"
   ]
  },
  {
   "cell_type": "code",
   "execution_count": 30,
   "metadata": {},
   "outputs": [
    {
     "name": "stdout",
     "output_type": "stream",
     "text": [
      "200\n",
      "117.0\n"
     ]
    }
   ],
   "source": [
    "def multiplica(a,b):\n",
    "    y = a*b\n",
    "    return y\n",
    "\n",
    "print(multiplica(10,20))\n",
    "\n",
    "print(multiplica(5,23.4))\n"
   ]
  }
 ],
 "metadata": {
  "interpreter": {
   "hash": "1baa965d5efe3ac65b79dfc60c0d706280b1da80fedb7760faf2759126c4f253"
  },
  "kernelspec": {
   "display_name": "Python 3.8.6 64-bit",
   "language": "python",
   "name": "python3"
  },
  "language_info": {
   "codemirror_mode": {
    "name": "ipython",
    "version": 3
   },
   "file_extension": ".py",
   "mimetype": "text/x-python",
   "name": "python",
   "nbconvert_exporter": "python",
   "pygments_lexer": "ipython3",
   "version": "3.8.6"
  },
  "orig_nbformat": 4
 },
 "nbformat": 4,
 "nbformat_minor": 2
}
