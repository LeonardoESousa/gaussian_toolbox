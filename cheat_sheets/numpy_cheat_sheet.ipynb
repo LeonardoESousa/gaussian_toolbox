{
 "cells": [
  {
   "cell_type": "markdown",
   "metadata": {},
   "source": [
    "# Numpy"
   ]
  },
  {
   "cell_type": "markdown",
   "metadata": {},
   "source": [
    "## Arrays"
   ]
  },
  {
   "cell_type": "code",
   "execution_count": 3,
   "metadata": {},
   "outputs": [
    {
     "name": "stdout",
     "output_type": "stream",
     "text": [
      "[1 2 3 4 5] <class 'numpy.ndarray'>\n"
     ]
    }
   ],
   "source": [
    "import numpy as np # Assim vc importa o pacote numpy e dá o apelido de np para ele\n",
    "\n",
    "lista = [1,2,3,4,5]\n",
    "vetor = np.array(lista) #Transforma lista em array\n",
    "print(vetor, type(vetor))"
   ]
  },
  {
   "cell_type": "markdown",
   "metadata": {},
   "source": [
    "## Operations"
   ]
  },
  {
   "cell_type": "code",
   "execution_count": 8,
   "metadata": {},
   "outputs": [
    {
     "name": "stdout",
     "output_type": "stream",
     "text": [
      "Soma de vetores: [ 2  4  6  8 10]\n",
      "Multiplicacao por escalar: [10 20 30 40 50]\n",
      "Produto entre vetores: [ 1  4  9 16 25]\n",
      "Divisao entre vetores: [1. 1. 1. 1. 1.]\n",
      "Logaritmo: [0.         0.69314718 1.09861229 1.38629436 1.60943791]\n",
      "Exponencial: [  2.71828183   7.3890561   20.08553692  54.59815003 148.4131591 ]\n"
     ]
    }
   ],
   "source": [
    "print('Soma de vetores:', vetor + vetor)\n",
    "print('Multiplicacao por escalar:', 10*vetor)\n",
    "# As duas acima funcionam como com vetores normais\n",
    "\n",
    "print('Produto entre vetores:', vetor*vetor) #Produto termo a termo!\n",
    "print('Divisao entre vetores:', vetor/vetor)\n",
    "print('Logaritmo:', np.log(vetor))\n",
    "print('Exponencial:', np.exp(vetor))\n",
    "\n"
   ]
  },
  {
   "cell_type": "markdown",
   "metadata": {},
   "source": [
    "## Some Methods"
   ]
  },
  {
   "cell_type": "code",
   "execution_count": 11,
   "metadata": {},
   "outputs": [
    {
     "name": "stdout",
     "output_type": "stream",
     "text": [
      "Soma dos termos: 15\n",
      "Média: 3.0\n",
      "Soma cumulativa: [ 1  3  6 10 15]\n",
      "Encontrar índice com alguma condicao: (array([3, 4], dtype=int64),)\n"
     ]
    }
   ],
   "source": [
    "print('Soma dos termos:', np.sum(vetor))\n",
    "print('Média:', np.mean(vetor))\n",
    "print('Soma cumulativa:', np.cumsum(vetor))\n",
    "print('Encontrar índice com alguma condicao:', np.where(vetor >3)) #Esse cara retorna dois elementos, o primeiro dá os índices do vetor que satisfazem a condicao"
   ]
  },
  {
   "cell_type": "markdown",
   "metadata": {},
   "source": [
    "## Useful Stuff"
   ]
  },
  {
   "cell_type": "code",
   "execution_count": 15,
   "metadata": {},
   "outputs": [
    {
     "name": "stdout",
     "output_type": "stream",
     "text": [
      "[ 0.   2.5  5.   7.5 10. ]\n",
      "[0. 0. 0. 0. 0.]\n",
      "[1. 1. 1. 1. 1.]\n"
     ]
    }
   ],
   "source": [
    "#Criar um vetor de 5 zeros:\n",
    "print(np.zeros(5))\n",
    "\n",
    "#Criar um vetor de 5 uns:\n",
    "print(np.ones(5))\n",
    "\n",
    "#Criar um vetor com 5 elementos, que comeca no 0 e vai ate o 10\n",
    "print(np.linspace(0,10,5))\n"
   ]
  },
  {
   "cell_type": "markdown",
   "metadata": {},
   "source": [
    "## More Dimensions"
   ]
  },
  {
   "cell_type": "code",
   "execution_count": 25,
   "metadata": {},
   "outputs": [
    {
     "name": "stdout",
     "output_type": "stream",
     "text": [
      "Zeros:\n",
      " [[0. 0.]\n",
      " [0. 0.]]\n",
      "Matrix:\n",
      " [[1 2 3]\n",
      " [4 5 6]]\n",
      "Dimensoes: (2, 3)\n",
      "Linhas: 2 Colunas: 3\n",
      "Transposta:\n",
      "[[1 4]\n",
      " [2 5]\n",
      " [3 6]]\n"
     ]
    }
   ],
   "source": [
    "# Faz uma matriz 2x2 de zeros\n",
    "print('Zeros:\\n',np.zeros((2,2)))\n",
    "\n",
    "#Pra fazer uma matriz manualmente\n",
    "matriz = np.array([[1,2,3],[4,5,6]])\n",
    "print('Matrix:\\n',matriz)\n",
    "\n",
    "# Pega as dimensoes do array\n",
    "shape = np.shape(matriz)\n",
    "print('Dimensoes:',shape)\n",
    "print('Linhas:', shape[0], 'Colunas:', shape[1])\n",
    "\n",
    "# Transposta\n",
    "print('Transposta:')\n",
    "print(matriz.T)\n"
   ]
  }
 ],
 "metadata": {
  "interpreter": {
   "hash": "1baa965d5efe3ac65b79dfc60c0d706280b1da80fedb7760faf2759126c4f253"
  },
  "kernelspec": {
   "display_name": "Python 3.8.6 64-bit",
   "language": "python",
   "name": "python3"
  },
  "language_info": {
   "codemirror_mode": {
    "name": "ipython",
    "version": 3
   },
   "file_extension": ".py",
   "mimetype": "text/x-python",
   "name": "python",
   "nbconvert_exporter": "python",
   "pygments_lexer": "ipython3",
   "version": "3.8.6"
  },
  "orig_nbformat": 4
 },
 "nbformat": 4,
 "nbformat_minor": 2
}
