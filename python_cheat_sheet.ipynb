{
 "cells": [
  {
   "cell_type": "markdown",
   "metadata": {},
   "source": [
    "# Cheat Sheet"
   ]
  },
  {
   "cell_type": "markdown",
   "metadata": {},
   "source": [
    "## Numbers"
   ]
  },
  {
   "cell_type": "code",
   "execution_count": 4,
   "metadata": {},
   "outputs": [
    {
     "name": "stdout",
     "output_type": "stream",
     "text": [
      "somar 20\n",
      "multiplicar 100\n",
      "dividir 5.0\n",
      "potência 1000\n"
     ]
    }
   ],
   "source": [
    "num = 10\n",
    "print('somar:',num + num) \n",
    "print('multiplicar:',num*num)\n",
    "print('dividir:',num/2) \n",
    "print('potência:',num**3)"
   ]
  },
  {
   "cell_type": "markdown",
   "metadata": {},
   "source": [
    "## Strings"
   ]
  },
  {
   "cell_type": "code",
   "execution_count": 9,
   "metadata": {},
   "outputs": [
    {
     "name": "stdout",
     "output_type": "stream",
     "text": [
      "Todas maiúsculas FERNANDO VAI TER DE APRENDER PYTHON. NO ESCAPE!\n",
      "Todas minúsculas fernando vai ter de aprender python. no escape!\n",
      "Separa termos em um lista usando espaco ['Fernando', 'vai', 'ter', 'de', 'aprender', 'python.', 'No', 'escape!']\n",
      "Separa termos em um lista usando ponto ['Fernando vai ter de aprender python', ' No escape!']\n"
     ]
    }
   ],
   "source": [
    "a = 'Fernando vai ter de aprender python. No escape!'\n",
    "\n",
    "print('Todas maiúsculas:',a.upper())\n",
    "print('Todas minúsculas:',a.lower())\n",
    "print('Separa termos em um lista usando espaco:',a.split())\n",
    "print('Separa termos em um lista usando ponto:',a.split('.'))"
   ]
  },
  {
   "cell_type": "markdown",
   "metadata": {},
   "source": [
    "## Lists"
   ]
  },
  {
   "cell_type": "code",
   "execution_count": 21,
   "metadata": {},
   "outputs": [
    {
     "name": "stdout",
     "output_type": "stream",
     "text": [
      "Primeiro elemento: 1\n",
      "Último elemento: 15\n",
      "Elementos a partir do índice 2 [10, 15]\n",
      "Enfia um elemento no fim da lista [1, 5, 10, 15, 20]\n",
      "Descobre qual o índice do elemento na lista: 0\n",
      "Tamanho da lista: 5\n",
      "Checa se algo está na lista: True\n"
     ]
    }
   ],
   "source": [
    "lista = [1,5,10,15]\n",
    "\n",
    "print('Primeiro elemento:',lista[0])  \n",
    "print('Último elemento:',lista[-1])\n",
    "print('Elementos a partir do índice 2',lista[2:])\n",
    "lista.append(20)\n",
    "print(\"Enfia um elemento no fim da lista\",lista)\n",
    "print('Descobre qual o índice do elemento na lista:',lista.index(1))\n",
    "print('Tamanho da lista:',len(lista))\n",
    "print('Checa se algo está na lista:', 5 in lista)\n"
   ]
  },
  {
   "cell_type": "markdown",
   "metadata": {},
   "source": [
    "## Dictionaries"
   ]
  },
  {
   "cell_type": "code",
   "execution_count": 15,
   "metadata": {},
   "outputs": [
    {
     "name": "stdout",
     "output_type": "stream",
     "text": [
      "Lista as chaves: dict_keys(['Pedao', 'Fernando', 'Tiago'])\n",
      "Lista os valores: dict_values([45, 23, 27])\n",
      "Pega o valor correspondente a uma chave: 45\n"
     ]
    }
   ],
   "source": [
    "dicionario = {'Pedao':45, 'Fernando':23, 'Tiago':27}\n",
    "\n",
    "print('Lista as chaves:',dicionario.keys())\n",
    "print('Lista os valores:',dicionario.values())\n",
    "\n",
    "print('Pega o valor correspondente a uma chave:',dicionario['Pedao'])"
   ]
  },
  {
   "cell_type": "markdown",
   "metadata": {},
   "source": [
    "## Transformando uma coisa na outra"
   ]
  },
  {
   "cell_type": "code",
   "execution_count": 20,
   "metadata": {},
   "outputs": [
    {
     "name": "stdout",
     "output_type": "stream",
     "text": [
      "3.5 <class 'float'>\n",
      "4.5 <class 'str'>\n",
      "['Pedao', 'Fernando', 'Tiago'] <class 'list'>\n"
     ]
    }
   ],
   "source": [
    "a = float('3.5')\n",
    "print(a, type(a))\n",
    "\n",
    "a = str(4.5)\n",
    "print(a,type(a))\n",
    "\n",
    "keys = list(dicionario.keys())\n",
    "print(keys, type(keys))"
   ]
  },
  {
   "cell_type": "markdown",
   "metadata": {},
   "source": [
    "## Loops and Conditionals"
   ]
  },
  {
   "cell_type": "code",
   "execution_count": 25,
   "metadata": {},
   "outputs": [
    {
     "name": "stdout",
     "output_type": "stream",
     "text": [
      "['Joao', ' Maria', ' Jose', ' Madalena', ' Mateus', ' Ruth', ' Marcos']\n",
      "Joao tem J\n",
      " Maria tem M\n",
      " Jose tem J\n",
      " Madalena tem M\n",
      " Mateus tem M\n",
      " Marcos tem M\n"
     ]
    }
   ],
   "source": [
    "texto = 'Joao, Maria, Jose, Madalena, Mateus, Ruth, Marcos'\n",
    "# transforma em lista\n",
    "lista = texto.split(',')\n",
    "print(lista)\n",
    "\n",
    "for nome in lista:\n",
    "    if 'M' in nome:\n",
    "        print(nome, 'tem M')\n",
    "    elif 'J' in nome:\n",
    "        print(nome, 'tem J')\n",
    "    else:\n",
    "        pass \n",
    "\n",
    "    \n",
    "           "
   ]
  }
 ],
 "metadata": {
  "interpreter": {
   "hash": "1baa965d5efe3ac65b79dfc60c0d706280b1da80fedb7760faf2759126c4f253"
  },
  "kernelspec": {
   "display_name": "Python 3.8.6 64-bit",
   "language": "python",
   "name": "python3"
  },
  "language_info": {
   "codemirror_mode": {
    "name": "ipython",
    "version": 3
   },
   "file_extension": ".py",
   "mimetype": "text/x-python",
   "name": "python",
   "nbconvert_exporter": "python",
   "pygments_lexer": "ipython3",
   "version": "3.8.6"
  },
  "orig_nbformat": 4
 },
 "nbformat": 4,
 "nbformat_minor": 2
}
